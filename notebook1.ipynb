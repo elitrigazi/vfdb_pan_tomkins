{
 "cells": [
  {
   "cell_type": "code",
   "execution_count": 22,
   "metadata": {},
   "outputs": [
    {
     "name": "stdout",
     "output_type": "stream",
     "text": [
      "(0, '(AFIB\\x00')\n",
      "(1, '(ASYS\\x00')\n",
      "(2, '(B\\x00')\n",
      "(3, '(BI\\x00')\n",
      "(4, '(HGEA\\x00')\n",
      "(5, '(N\\x00')\n",
      "(6, '(NOD\\x00')\n",
      "(7, '(NOISE\\x00')\n",
      "(8, '(PM\\x00')\n",
      "(9, '(SBR\\x00')\n",
      "(10, '(SVTA\\x00')\n",
      "(11, '(VER\\x00')\n",
      "(12, '(VF\\x00')\n",
      "(13, '(VFL\\x00')\n",
      "(14, '(VT\\x00')\n"
     ]
    }
   ],
   "source": [
    "ann_str_to_num  = {\n",
    "    '(AFIB\\x00': 0,\n",
    "    '(ASYS\\x00': 1,\n",
    "    '(B\\x00': 2,\n",
    "    '(BI\\x00': 3,\n",
    "    '(HGEA\\x00': 4,\n",
    "    '(N\\x00': 5,\n",
    "    '(NSR\\x00': 5,\n",
    "    '(NOD\\x00': 6,\n",
    "    '(NOISE\\x00': 7,\n",
    "    '(PM\\x00': 8,\n",
    "    '(SBR\\x00': 9,\n",
    "    '(SVTA\\x00': 10,\n",
    "    '(VER\\x00': 11,\n",
    "    '(VF\\x00': 12,\n",
    "    '(VFIB\\x00': 12,\n",
    "    '(VFL\\x00': 13,\n",
    "    '(VT\\x00': 14\n",
    "}\n",
    "\n",
    "ann_num_to_str = {}\n",
    "for k, v in ann_str_to_num.items():\n",
    "    if v == 5:\n",
    "        k = '(N\\x00'\n",
    "    elif v == 12:\n",
    "        k = '(VF\\x00'\n",
    "    ann_num_to_str[v] = k\n",
    "for item in ann_num_to_str.items():\n",
    "    print item"
   ]
  },
  {
   "cell_type": "code",
   "execution_count": 2,
   "metadata": {},
   "outputs": [
    {
     "name": "stdout",
     "output_type": "stream",
     "text": [
      "4300\n"
     ]
    }
   ],
   "source": [
    "import wfdb\n",
    "import vfdb_annotate_r as my_vfdb\n",
    "\n",
    "record_id = '418'\n",
    "qrs_i = my_vfdb.load_qrs_i(record_id)\n",
    "\n",
    "qrs_amp = my_vfdb.load_qrs_amp(record_id)\n",
    "ann = my_vfdb.get_annotation(record_id)\n",
    "annot_positions = my_vfdb.get_annotation_positions(ann)\n",
    "annotated_r_peaks = my_vfdb.create_qrs_annotation_mapping(qrs_i, qrs_amp, annot_positions)\n",
    "annotated_rr_segments = my_vfdb.create_rr_annotation(annotated_r_peaks)\n",
    "\n",
    "print annotated_rr_segments[:,0].size"
   ]
  },
  {
   "cell_type": "code",
   "execution_count": 4,
   "metadata": {},
   "outputs": [
    {
     "name": "stdout",
     "output_type": "stream",
     "text": [
      "[418, 419, 420, 421, 422, 423, 424, 425, 426, 427, 428, 429, 430, 602, 605, 607, 609, 610, 611, 612, 614, 615]\n"
     ]
    }
   ],
   "source": [
    "print vfdb_annotate_r.VFDB_RECORDS"
   ]
  },
  {
   "cell_type": "code",
   "execution_count": 20,
   "metadata": {},
   "outputs": [
    {
     "name": "stdout",
     "output_type": "stream",
     "text": [
      "\n",
      "record \t num_of_RR\n",
      "418 \t4300\n",
      "419 \t3905\n",
      "420 \t2923\n",
      "421 \t4525\n",
      "422 \t4072\n",
      "423 \t3537\n",
      "424 \t3795\n",
      "425 \t2128\n",
      "426 \t3774\n",
      "427 \t3894\n",
      "428 \t3265\n",
      "429 \t3613\n",
      "430 \t4695\n",
      "602 \t3307\n",
      "605 \t1921\n",
      "607 \t1847\n",
      "609 \t2214\n",
      "610 \t2166\n",
      "611 \t3947\n",
      "612 \t2489\n",
      "614 \t3329\n",
      "615 \t1592\n"
     ]
    }
   ],
   "source": [
    "import numpy\n",
    "import vfdb_annotate_r as my_vfdb\n",
    "print \"\\nrecord \\t num_of_RR\"\n",
    "for record in my_vfdb.VFDB_RECORDS:\n",
    "    filepath = my_vfdb.QRS_LOCATION + str(record) + '_RR.csv'\n",
    "    rr = numpy.genfromtxt(filepath, delimiter=',')\n",
    "    print record, '\\t', rr[:,0].size"
   ]
  },
  {
   "cell_type": "code",
   "execution_count": 10,
   "metadata": {},
   "outputs": [
    {
     "name": "stdout",
     "output_type": "stream",
     "text": [
      "418 set(['(N\\x00', '(VFL\\x00'])\n",
      "419 set(['(N\\x00', '(VFL\\x00', '(NOISE\\x00'])\n",
      "420 set(['(N\\x00', '(NOISE\\x00', '(VT\\x00'])\n",
      "421 set(['(N\\x00', '(NOISE\\x00', '(VT\\x00'])\n",
      "422 set(['(N\\x00', '(NOISE\\x00', '(VT\\x00', '(VFIB\\x00'])\n",
      "423 set(['(N\\x00', '(ASYS\\x00', '(NOD\\x00', '(NOISE\\x00', '(VT\\x00', '(AFIB\\x00'])\n",
      "424 set(['(N\\x00', '(ASYS\\x00', '(NSR\\x00', '(VFIB\\x00', '(NOD\\x00', '(NOISE\\x00', '(VFL\\x00'])\n",
      "425 set(['(N\\x00', '(NOISE\\x00', '(VT\\x00', '(B\\x00'])\n",
      "426 set(['(VF\\x00', '(N\\x00', '(SVTA\\x00', '(NOISE\\x00', '(VT\\x00'])\n",
      "427 set(['(N\\x00', '(ASYS\\x00', '(VT\\x00'])\n",
      "428 set(['(BI\\x00', '(NOISE\\x00', '(VT\\x00'])\n",
      "429 set(['(BI\\x00', '(NOISE\\x00', '(VT\\x00', '(VFL\\x00'])\n",
      "430 set(['(VF\\x00', '(HGEA\\x00', '(ASYS\\x00', '(NOISE\\x00', '(BI\\x00', '(SBR\\x00', '(VER\\x00', '(VFL\\x00', '(VT\\x00'])\n",
      "602 set(['(N\\x00', '(PM\\x00', '(ASYS\\x00', '(VT\\x00', '(NOISE\\x00'])\n",
      "605 set(['(NOISE\\x00', '(VT\\x00'])\n",
      "607 set(['(SVTA\\x00', '(NOD\\x00', '(ASYS\\x00', '(VT\\x00'])\n",
      "609 set(['(N\\x00', '(HGEA\\x00', '(VT\\x00', '(VER\\x00', '(VFL\\x00', '(AFIB\\x00'])\n",
      "610 set(['(N\\x00', '(HGEA\\x00', '(VT\\x00', '(NOISE\\x00'])\n",
      "611 set(['(SVTA\\x00', '(VT\\x00'])\n",
      "612 set(['(N\\x00', '(VT\\x00'])\n",
      "614 set(['(N\\x00', '(B\\x00', '(VT\\x00'])\n",
      "615 set(['(VT\\x00', '(AFIB\\x00'])\n"
     ]
    }
   ],
   "source": [
    "# Find all different labels in every annotation\n",
    "import pprint\n",
    "\n",
    "records = [str(x) for x in my_vfdb.VFDB_RECORDS]\n",
    "for record in records:\n",
    "    ann = my_vfdb.get_annotation(record)\n",
    "    #print record\n",
    "    #pprint.pprint(set(ann.aux_note))\n",
    "    labels = set(ann.aux_note)\n",
    "    print record, labels"
   ]
  },
  {
   "cell_type": "code",
   "execution_count": 42,
   "metadata": {},
   "outputs": [
    {
     "name": "stdout",
     "output_type": "stream",
     "text": [
      "record 418 has 86 segments Counter({'NO_LABEL': 49, '(N\\x00': 37})\n",
      "record 419 has 78 segments Counter({'(VFL\\x00': 34, '(N\\x00': 26, 'NO_LABEL': 18})\n",
      "record 420 has 58 segments Counter({'(N\\x00': 31, '(VT\\x00': 25, 'NO_LABEL': 2})\n",
      "record 421 has 90 segments Counter({'(N\\x00': 57, '(VT\\x00': 19, 'NO_LABEL': 14})\n",
      "record 422 has 81 segments Counter({'(N\\x00': 44, '(VF\\x00': 24, '(VT\\x00': 10, 'NO_LABEL': 3})\n",
      "record 423 has 70 segments Counter({'(N\\x00': 23, '(VT\\x00': 23, '(AFIB\\x00': 19, 'NO_LABEL': 5})\n",
      "record 424 has 75 segments Counter({'(N\\x00': 58, 'NO_LABEL': 10, '(VF\\x00': 5, '(VFL\\x00': 2})\n",
      "record 425 has 42 segments Counter({'(N\\x00': 27, 'NO_LABEL': 8, '(B\\x00': 5, '(VT\\x00': 2})\n",
      "record 426 has 75 segments Counter({'(VF\\x00': 42, '(N\\x00': 15, 'NO_LABEL': 14, '(VT\\x00': 4})\n",
      "record 427 has 77 segments Counter({'(VT\\x00': 44, '(ASYS\\x00': 16, '(N\\x00': 15, 'NO_LABEL': 2})\n",
      "record 428 has 65 segments Counter({'(BI\\x00': 56, 'NO_LABEL': 7, '(VT\\x00': 2})\n",
      "record 429 has 72 segments Counter({'(BI\\x00': 58, 'NO_LABEL': 10, '(VFL\\x00': 4})\n",
      "record 430 has 93 segments Counter({'(VF\\x00': 48, 'NO_LABEL': 18, '(VT\\x00': 14, '(BI\\x00': 10, '(VFL\\x00': 3})\n",
      "record 602 has 66 segments Counter({'(PM\\x00': 32, '(VT\\x00': 18, 'NO_LABEL': 9, '(N\\x00': 7})\n",
      "record 605 has 38 segments Counter({'(N\\x00': 24, '(VT\\x00': 11, 'NO_LABEL': 3})\n",
      "record 607 has 36 segments Counter({'(NOD\\x00': 20, 'NO_LABEL': 7, '(VT\\x00': 5, '(SVTA\\x00': 4})\n",
      "record 609 has 44 segments Counter({'(AFIB\\x00': 20, '(N\\x00': 12, 'NO_LABEL': 12})\n",
      "record 610 has 43 segments Counter({'NO_LABEL': 25, '(N\\x00': 15, '(HGEA\\x00': 3})\n",
      "record 611 has 78 segments Counter({'(VT\\x00': 40, '(SVTA\\x00': 36, 'NO_LABEL': 2})\n",
      "record 612 has 49 segments Counter({'(N\\x00': 29, '(VT\\x00': 19, 'NO_LABEL': 1})\n",
      "record 614 has 66 segments Counter({'(VT\\x00': 33, '(N\\x00': 25, 'NO_LABEL': 8})\n",
      "record 615 has 31 segments Counter({'(AFIB\\x00': 21, 'NO_LABEL': 10})\n"
     ]
    }
   ],
   "source": [
    "from collections import Counter\n",
    "import numpy\n",
    "import pprint\n",
    "import vfdb_annotate_r as my_vfdb\n",
    "\n",
    "records = [str(x) for x in my_vfdb.VFDB_RECORDS]\n",
    "#records = ['418']\n",
    "# each segment will have 100 RR\n",
    "SEGMENT_LEN = 100\n",
    "\n",
    "for record in records:\n",
    "    filepath = my_vfdb.QRS_LOCATION + str(record) + '_RR.csv'\n",
    "    rrs = numpy.genfromtxt(filepath, delimiter=',')\n",
    "    rows, columns = rrs.shape\n",
    "    num_segments = rows / (SEGMENT_LEN / 2)\n",
    "    i = 0\n",
    "    l = []\n",
    "    while i < num_segments:\n",
    "        start = i * (SEGMENT_LEN / 2)\n",
    "        if i == num_segments - 1:\n",
    "            end = rows - 1\n",
    "        else:\n",
    "            end = start + SEGMENT_LEN\n",
    "        # start is the idx of the first RR of this segment\n",
    "        # end is the idx of the last RR in this segment\n",
    "        labels = rrs[start:end, 3]\n",
    "        data = Counter(labels)\n",
    "        most_frequent = max(data)\n",
    "        if data[most_frequent] >= 0.8 * SEGMENT_LEN:\n",
    "            l.append(ann_num_to_str[most_frequent])\n",
    "        else:\n",
    "            l.append(\"NO_LABEL\")\n",
    "                \n",
    "        #print [ann_num_to_str[x] for x in list(set(labels))]            \n",
    "        i += 1\n",
    "    print \"record\", record, \"has\", num_segments, \"segments\", Counter(l)"
   ]
  },
  {
   "cell_type": "code",
   "execution_count": null,
   "metadata": {},
   "outputs": [],
   "source": []
  }
 ],
 "metadata": {
  "kernelspec": {
   "display_name": "Python 2",
   "language": "python",
   "name": "python2"
  },
  "language_info": {
   "codemirror_mode": {
    "name": "ipython",
    "version": 2
   },
   "file_extension": ".py",
   "mimetype": "text/x-python",
   "name": "python",
   "nbconvert_exporter": "python",
   "pygments_lexer": "ipython2",
   "version": "2.7.15"
  }
 },
 "nbformat": 4,
 "nbformat_minor": 2
}
