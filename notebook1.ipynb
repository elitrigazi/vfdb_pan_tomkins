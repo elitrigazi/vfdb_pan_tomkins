{
 "cells": [
  {
   "cell_type": "code",
   "execution_count": 2,
   "metadata": {},
   "outputs": [
    {
     "name": "stdout",
     "output_type": "stream",
     "text": [
      "4300\n"
     ]
    }
   ],
   "source": [
    "import wfdb\n",
    "import vfdb_annotate_r as my_vfdb\n",
    "\n",
    "record_id = '418'\n",
    "qrs_i = my_vfdb.load_qrs_i(record_id)\n",
    "\n",
    "qrs_amp = my_vfdb.load_qrs_amp(record_id)\n",
    "ann = my_vfdb.get_annotation(record_id)\n",
    "annot_positions = my_vfdb.get_annotation_positions(ann)\n",
    "annotated_r_peaks = my_vfdb.create_qrs_annotation_mapping(qrs_i, qrs_amp, annot_positions)\n",
    "annotated_rr_segments = my_vfdb.create_rr_annotation(annotated_r_peaks)\n",
    "\n",
    "print annotated_rr_segments[:,0].size"
   ]
  },
  {
   "cell_type": "code",
   "execution_count": 4,
   "metadata": {},
   "outputs": [
    {
     "name": "stdout",
     "output_type": "stream",
     "text": [
      "[418, 419, 420, 421, 422, 423, 424, 425, 426, 427, 428, 429, 430, 602, 605, 607, 609, 610, 611, 612, 614, 615]\n"
     ]
    }
   ],
   "source": [
    "print vfdb_annotate_r.VFDB_RECORDS"
   ]
  },
  {
   "cell_type": "code",
   "execution_count": 16,
   "metadata": {},
   "outputs": [
    {
     "name": "stdout",
     "output_type": "stream",
     "text": [
      "[418, 419, 420, 421, 422, 423, 424, 425, 426, 427, 428, 429, 430, 602, 605, 607, 609, 610, 611, 612, 614, 615]\n",
      "\n",
      "record \t num_of_RR\n",
      "418 \t4300\n",
      "419 \t3905\n",
      "420 \t2923\n",
      "421 \t4525\n",
      "422 \t4072\n",
      "423 \t3537\n",
      "424 \t3795\n",
      "425 \t2128\n",
      "426 \t3774\n",
      "427 \t3894\n",
      "428 \t3265\n",
      "429 \t3613\n",
      "430 \t4695\n",
      "602 \t3307\n",
      "605 \t1921\n",
      "607 \t1847\n",
      "609 \t2214\n",
      "610 \t2166\n",
      "611 \t3947\n",
      "612 \t2489\n",
      "614 \t3329\n",
      "615 \t1592\n"
     ]
    }
   ],
   "source": [
    "import numpy\n",
    "print vfdb_annotate_r.VFDB_RECORDS\n",
    "print \"\\nrecord \\t num_of_RR\"\n",
    "for record in vfdb_annotate_r.VFDB_RECORDS:\n",
    "    filepath = vfdb_annotate_r.QRS_LOCATION + str(record) + '_RR.csv'\n",
    "    rr = numpy.genfromtxt(filepath, delimiter=',')\n",
    "    print record, '\\t', rr[:,0].size"
   ]
  },
  {
   "cell_type": "code",
   "execution_count": 10,
   "metadata": {},
   "outputs": [
    {
     "name": "stdout",
     "output_type": "stream",
     "text": [
      "418 set(['(N\\x00', '(VFL\\x00'])\n",
      "419 set(['(N\\x00', '(VFL\\x00', '(NOISE\\x00'])\n",
      "420 set(['(N\\x00', '(NOISE\\x00', '(VT\\x00'])\n",
      "421 set(['(N\\x00', '(NOISE\\x00', '(VT\\x00'])\n",
      "422 set(['(N\\x00', '(NOISE\\x00', '(VT\\x00', '(VFIB\\x00'])\n",
      "423 set(['(N\\x00', '(ASYS\\x00', '(NOD\\x00', '(NOISE\\x00', '(VT\\x00', '(AFIB\\x00'])\n",
      "424 set(['(N\\x00', '(ASYS\\x00', '(NSR\\x00', '(VFIB\\x00', '(NOD\\x00', '(NOISE\\x00', '(VFL\\x00'])\n",
      "425 set(['(N\\x00', '(NOISE\\x00', '(VT\\x00', '(B\\x00'])\n",
      "426 set(['(VF\\x00', '(N\\x00', '(SVTA\\x00', '(NOISE\\x00', '(VT\\x00'])\n",
      "427 set(['(N\\x00', '(ASYS\\x00', '(VT\\x00'])\n",
      "428 set(['(BI\\x00', '(NOISE\\x00', '(VT\\x00'])\n",
      "429 set(['(BI\\x00', '(NOISE\\x00', '(VT\\x00', '(VFL\\x00'])\n",
      "430 set(['(VF\\x00', '(HGEA\\x00', '(ASYS\\x00', '(NOISE\\x00', '(BI\\x00', '(SBR\\x00', '(VER\\x00', '(VFL\\x00', '(VT\\x00'])\n",
      "602 set(['(N\\x00', '(PM\\x00', '(ASYS\\x00', '(VT\\x00', '(NOISE\\x00'])\n",
      "605 set(['(NOISE\\x00', '(VT\\x00'])\n",
      "607 set(['(SVTA\\x00', '(NOD\\x00', '(ASYS\\x00', '(VT\\x00'])\n",
      "609 set(['(N\\x00', '(HGEA\\x00', '(VT\\x00', '(VER\\x00', '(VFL\\x00', '(AFIB\\x00'])\n",
      "610 set(['(N\\x00', '(HGEA\\x00', '(VT\\x00', '(NOISE\\x00'])\n",
      "611 set(['(SVTA\\x00', '(VT\\x00'])\n",
      "612 set(['(N\\x00', '(VT\\x00'])\n",
      "614 set(['(N\\x00', '(B\\x00', '(VT\\x00'])\n",
      "615 set(['(VT\\x00', '(AFIB\\x00'])\n"
     ]
    }
   ],
   "source": [
    "# Find all different labels in every annotation\n",
    "import pprint\n",
    "\n",
    "records = [str(x) for x in my_vfdb.VFDB_RECORDS]\n",
    "for record in records:\n",
    "    ann = my_vfdb.get_annotation(record)\n",
    "    #print record\n",
    "    #pprint.pprint(set(ann.aux_note))\n",
    "    labels = set(ann.aux_note)\n",
    "    print record, labels"
   ]
  },
  {
   "cell_type": "code",
   "execution_count": null,
   "metadata": {},
   "outputs": [],
   "source": []
  }
 ],
 "metadata": {
  "kernelspec": {
   "display_name": "Python 2",
   "language": "python",
   "name": "python2"
  },
  "language_info": {
   "codemirror_mode": {
    "name": "ipython",
    "version": 2
   },
   "file_extension": ".py",
   "mimetype": "text/x-python",
   "name": "python",
   "nbconvert_exporter": "python",
   "pygments_lexer": "ipython2",
   "version": "2.7.15"
  }
 },
 "nbformat": 4,
 "nbformat_minor": 2
}
